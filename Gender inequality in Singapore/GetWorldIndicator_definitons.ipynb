{
 "cells": [
  {
   "cell_type": "markdown",
   "metadata": {},
   "source": [
    "#### This notebook extracts the definitions for selected indicators from the World Data excel spreadsheet"
   ]
  },
  {
   "cell_type": "code",
   "execution_count": 1,
   "metadata": {},
   "outputs": [],
   "source": [
    "import pandas as pd\n",
    "import numpy as np\n"
   ]
  },
  {
   "cell_type": "code",
   "execution_count": 2,
   "metadata": {},
   "outputs": [],
   "source": [
    "# read data\n",
    "file1 = \"data/Gender_StatsEXCEL.xlsx\"\n",
    "data1 = pd.read_excel(file1, sheet_name=2, usecols = [2,4])\n"
   ]
  },
  {
   "cell_type": "code",
   "execution_count": 3,
   "metadata": {},
   "outputs": [
    {
     "data": {
      "text/html": [
       "<div>\n",
       "<style scoped>\n",
       "    .dataframe tbody tr th:only-of-type {\n",
       "        vertical-align: middle;\n",
       "    }\n",
       "\n",
       "    .dataframe tbody tr th {\n",
       "        vertical-align: top;\n",
       "    }\n",
       "\n",
       "    .dataframe thead th {\n",
       "        text-align: right;\n",
       "    }\n",
       "</style>\n",
       "<table border=\"1\" class=\"dataframe\">\n",
       "  <thead>\n",
       "    <tr style=\"text-align: right;\">\n",
       "      <th></th>\n",
       "      <th>Indicator Name</th>\n",
       "      <th>Long definition</th>\n",
       "    </tr>\n",
       "  </thead>\n",
       "  <tbody>\n",
       "    <tr>\n",
       "      <th>0</th>\n",
       "      <td>Inflation, consumer prices (annual %)</td>\n",
       "      <td>Inflation as measured by the consumer price in...</td>\n",
       "    </tr>\n",
       "    <tr>\n",
       "      <th>1</th>\n",
       "      <td>Account ownership at a financial institution o...</td>\n",
       "      <td>Account denotes the percentage of respondents ...</td>\n",
       "    </tr>\n",
       "    <tr>\n",
       "      <th>2</th>\n",
       "      <td>Account ownership at a financial institution o...</td>\n",
       "      <td>Account denotes the percentage of respondents ...</td>\n",
       "    </tr>\n",
       "    <tr>\n",
       "      <th>3</th>\n",
       "      <td>Firms with female top manager (% of firms)</td>\n",
       "      <td>Firms with female top manager refers to the pe...</td>\n",
       "    </tr>\n",
       "    <tr>\n",
       "      <th>4</th>\n",
       "      <td>Firms with female participation in ownership (...</td>\n",
       "      <td>Firms with female participation in ownership a...</td>\n",
       "    </tr>\n",
       "  </tbody>\n",
       "</table>\n",
       "</div>"
      ],
      "text/plain": [
       "                                      Indicator Name  \\\n",
       "0              Inflation, consumer prices (annual %)   \n",
       "1  Account ownership at a financial institution o...   \n",
       "2  Account ownership at a financial institution o...   \n",
       "3         Firms with female top manager (% of firms)   \n",
       "4  Firms with female participation in ownership (...   \n",
       "\n",
       "                                     Long definition  \n",
       "0  Inflation as measured by the consumer price in...  \n",
       "1  Account denotes the percentage of respondents ...  \n",
       "2  Account denotes the percentage of respondents ...  \n",
       "3  Firms with female top manager refers to the pe...  \n",
       "4  Firms with female participation in ownership a...  "
      ]
     },
     "execution_count": 3,
     "metadata": {},
     "output_type": "execute_result"
    }
   ],
   "source": [
    "data1.head()"
   ]
  },
  {
   "cell_type": "code",
   "execution_count": 4,
   "metadata": {},
   "outputs": [],
   "source": [
    "selected_indicators = ['GNI per capita, Atlas method (current US$)',\n",
    "    'Expected years of schooling, female',\n",
    "    'Expected years of schooling, male',\n",
    "    'Tertiary education, academic staff (% female)',\n",
    "    'Educational attainment, at least completed short-cycle tertiary, population 25+, female (%) (cumulative)',\n",
    "    'Educational attainment, at least completed short-cycle tertiary, population 25+, male (%) (cumulative)',\n",
    "    'Literacy rate, adult female (% of females ages 15 and above)',\n",
    "    'Literacy rate, adult male (% of males ages 15 and above)',\n",
    "    'School enrollment, tertiary (gross), gender parity index (GPI)',\n",
    "    'Proportion of women subjected to physical and/or sexual violence in the last 12 months (% of women age 15-49)',\n",
    "    'Female professional and technical workers (% of total)',\n",
    "    'Proportion of seats held by women in national parliaments (%)',\n",
    "    'Proportion of women in ministerial level positions (%)',\n",
    "    'Women participating in the three decisions (own health care, major household purchases, and visiting family) (% of women age 15-49)',\n",
    "    'Female headed households (% of households with a female head)',\n",
    "    'Women who were first married by age 18 (% of women ages 20-24)',\n",
    "    'Adolescent fertility rate (births per 1,000 women ages 15-19)',\n",
    "    'Fertility rate, total (births per woman)',\n",
    "    'Maternal leave benefits (% of wages paid)',\n",
    "    'Maternity leave (days paid)',\n",
    "    'Firms with female participation in ownership (% of firms)',\n",
    "    'Firms with female top manager (% of firms)',\n",
    "    'Female share of employment in senior and middle management (%)',\n",
    "    'Ratio of female to male labor force participation rate (%) (modeled ILO estimate)',\n",
    "    'Unemployment, female (% of female labor force) (modeled ILO estimate)',\n",
    "    'Unemployment, male (% of male labor force) (modeled ILO estimate)']"
   ]
  },
  {
   "cell_type": "code",
   "execution_count": 5,
   "metadata": {},
   "outputs": [],
   "source": [
    "out = data1[data1['Indicator Name'].isin(selected_indicators)]"
   ]
  },
  {
   "cell_type": "code",
   "execution_count": 6,
   "metadata": {},
   "outputs": [],
   "source": [
    "out.to_csv('definitions.csv')"
   ]
  }
 ],
 "metadata": {
  "kernelspec": {
   "display_name": "Python 3",
   "language": "python",
   "name": "python3"
  },
  "language_info": {
   "codemirror_mode": {
    "name": "ipython",
    "version": 3
   },
   "file_extension": ".py",
   "mimetype": "text/x-python",
   "name": "python",
   "nbconvert_exporter": "python",
   "pygments_lexer": "ipython3",
   "version": "3.6.4"
  }
 },
 "nbformat": 4,
 "nbformat_minor": 2
}
